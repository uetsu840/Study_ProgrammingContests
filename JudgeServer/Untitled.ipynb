{
 "cells": [
  {
   "cell_type": "code",
   "execution_count": 1,
   "metadata": {
    "collapsed": true
   },
   "outputs": [],
   "source": [
    "import os\n",
    "\n",
    "\n",
    "folder = \"C:/Users/Tomonobu/Documents/home/WorkAndStudy/Study_ProgrammingContests/JudgeServer\\Q_A_PluralForm\""
   ]
  },
  {
   "cell_type": "code",
   "execution_count": 2,
   "metadata": {},
   "outputs": [],
   "source": [
    "os.chdir(folder)"
   ]
  },
  {
   "cell_type": "code",
   "execution_count": 3,
   "metadata": {},
   "outputs": [
    {
     "name": "stdout",
     "output_type": "stream",
     "text": [
      "a.exe\n",
      "input1.txt\n",
      "input16.txt\n",
      "input2.txt\n",
      "input3.txt\n",
      "input4.txt\n",
      "input5.txt\n",
      "solver1.cpp\n"
     ]
    }
   ],
   "source": [
    "for f in os.listdir():\n",
    "    print(f)"
   ]
  },
  {
   "cell_type": "code",
   "execution_count": 4,
   "metadata": {
    "collapsed": true
   },
   "outputs": [],
   "source": [
    "def judge(number):\n",
    "    input_filename = \"input\" + str(number)\n",
    "    output_filename = \"output\" + str(number)\n",
    "    "
   ]
  },
  {
   "cell_type": "code",
   "execution_count": 5,
   "metadata": {
    "collapsed": true
   },
   "outputs": [],
   "source": [
    "import subprocess\n",
    "from subprocess import PIPE\n",
    "\n",
    "def read_file(filename):\n",
    "    file = open(filename, \"r\")\n",
    "    contents = file.read()\n",
    "    file.close()\n",
    "    return contents "
   ]
  },
  {
   "cell_type": "code",
   "execution_count": 6,
   "metadata": {},
   "outputs": [],
   "source": [
    "import subprocess\n",
    "from subprocess import PIPE\n"
   ]
  },
  {
   "cell_type": "code",
   "execution_count": null,
   "metadata": {},
   "outputs": [],
   "source": []
  },
  {
   "cell_type": "code",
   "execution_count": 9,
   "metadata": {},
   "outputs": [],
   "source": [
    "import time\n",
    "\n",
    "def judge_one(number):\n",
    "    print(\"judging...\", number)\n",
    "    input_filename = \"input\" + str(number)  + \".txt\"\n",
    "    output_filename = \"output\" + str(number) + \".txt\"\n",
    "    \n",
    "    proc = subprocess.Popen(\"a.exe\", stdin = PIPE, stdout=PIPE, stderr=PIPE)\n",
    "\n",
    "    contents = read_file(input_filename)\n",
    "    proc.stdin.write(contents.encode())\n",
    "\n",
    "    time.sleep(2.1) #sleep(秒指定)\n",
    "\n",
    "    # リアルタイムに取得\n",
    "    result = proc.poll()\n",
    "    if result is None:\n",
    "        print('TLE')\n",
    "        proc.kill()\n",
    "    else:\n",
    "        print('Finish:', result)\n",
    "        output = proc.communicate()\n",
    "        result_stdout = output[0].decode()\n",
    "        result_stderr = output[1].decode()\n",
    "        print(result_stdout, result_stderr)\n",
    "        proc.kill()\n"
   ]
  },
  {
   "cell_type": "code",
   "execution_count": 10,
   "metadata": {},
   "outputs": [
    {
     "name": "stdout",
     "output_type": "stream",
     "text": [
      "judging... 1\n",
      "TLE\n",
      "judging... 2\n",
      "TLE\n",
      "judging... 3\n",
      "TLE\n"
     ]
    }
   ],
   "source": [
    "judge_one(1)\n",
    "judge_one(2)\n",
    "judge_one(3)\n",
    "\n"
   ]
  },
  {
   "cell_type": "code",
   "execution_count": null,
   "metadata": {
    "collapsed": true
   },
   "outputs": [],
   "source": []
  },
  {
   "cell_type": "code",
   "execution_count": null,
   "metadata": {
    "collapsed": true
   },
   "outputs": [],
   "source": []
  },
  {
   "cell_type": "code",
   "execution_count": null,
   "metadata": {
    "collapsed": true
   },
   "outputs": [],
   "source": []
  },
  {
   "cell_type": "code",
   "execution_count": null,
   "metadata": {},
   "outputs": [
    {
     "name": "stdout",
     "output_type": "stream",
     "text": [
      "\n",
      "\n"
     ]
    }
   ],
   "source": [
    "\n",
    "\n",
    "contents = read_file(\"input1.txt\")\n",
    "print(contents)\n",
    "\n",
    "proc = subprocess.run(\"a.exe\", shell=True, input=contents.encode(), stdout=PIPE, stderr=PIPE)\n",
    "output = proc.stdout\n",
    "\n",
    "print(output)\n",
    "#   1   1"
   ]
  }
 ],
 "metadata": {
  "kernelspec": {
   "display_name": "Python 3",
   "language": "python",
   "name": "python3"
  },
  "language_info": {
   "codemirror_mode": {
    "name": "ipython",
    "version": 3
   },
   "file_extension": ".py",
   "mimetype": "text/x-python",
   "name": "python",
   "nbconvert_exporter": "python",
   "pygments_lexer": "ipython3",
   "version": "3.6.3"
  }
 },
 "nbformat": 4,
 "nbformat_minor": 2
}
