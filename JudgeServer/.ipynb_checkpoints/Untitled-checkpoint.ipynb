{
 "cells": [
  {
   "cell_type": "code",
   "execution_count": null,
   "metadata": {},
   "outputs": [],
   "source": [
    "import os\n",
    "\n",
    "\n",
    "folder = \"C:/Users/Tomonobu/Documents/home/WorkAndStudy/Study_ProgrammingContests/JudgeServer\\Q_A_PluralForm\""
   ]
  },
  {
   "cell_type": "code",
   "execution_count": null,
   "metadata": {},
   "outputs": [],
   "source": [
    "os.chdir(folder)"
   ]
  },
  {
   "cell_type": "code",
   "execution_count": null,
   "metadata": {},
   "outputs": [],
   "source": [
    "for f in os.listdir():\n",
    "    print(f)"
   ]
  },
  {
   "cell_type": "code",
   "execution_count": null,
   "metadata": {
    "collapsed": true
   },
   "outputs": [],
   "source": [
    "def judge(number):\n",
    "    input_filename = \"input\" + str(number)\n",
    "    output_filename = \"output\" + str(number)\n",
    "    "
   ]
  },
  {
   "cell_type": "code",
   "execution_count": null,
   "metadata": {
    "collapsed": true
   },
   "outputs": [],
   "source": [
    "import subprocess\n",
    "from subprocess import PIPE\n",
    "\n",
    "def read_file(filename):\n",
    "    file = open(filename, \"r\")\n",
    "    contents = file.read()\n",
    "    file.close()\n",
    "    return contents "
   ]
  },
  {
   "cell_type": "code",
   "execution_count": null,
   "metadata": {},
   "outputs": [],
   "source": [
    "import subprocess\n",
    "from subprocess import PIPE\n",
    "proc = subprocess.Popen(\"a.exe\", shell=True, stdin = PIPE, stdout=PIPE, stderr=PIPE)\n",
    "\n",
    "contents = read_file(\"input1.txt\")\n",
    "print(contents)"
   ]
  },
  {
   "cell_type": "code",
   "execution_count": null,
   "metadata": {},
   "outputs": [],
   "source": [
    "proc.stdin.write(contents.encode())"
   ]
  },
  {
   "cell_type": "code",
   "execution_count": null,
   "metadata": {},
   "outputs": [],
   "source": [
    "import time\n",
    "time.sleep(2.1) #sleep(秒指定)\n",
    "\n",
    "# リアルタイムに取得\n",
    "result = proc.poll()\n",
    "if result is None:\n",
    "    print('Pending')\n",
    "    proc.kill()\n",
    "else:\n",
    "    print('Finish:', result)\n"
   ]
  },
  {
   "cell_type": "code",
   "execution_count": null,
   "metadata": {},
   "outputs": [],
   "source": [
    "output = proc.communicate()\n",
    "result_stdout = output[0].decode()\n",
    "result_stderr = output[1].decode()\n",
    "\n",
    "\n"
   ]
  },
  {
   "cell_type": "code",
   "execution_count": null,
   "metadata": {},
   "outputs": [],
   "source": [
    "print(result_stdout, result_stderr)"
   ]
  },
  {
   "cell_type": "code",
   "execution_count": null,
   "metadata": {
    "collapsed": true
   },
   "outputs": [],
   "source": []
  },
  {
   "cell_type": "code",
   "execution_count": null,
   "metadata": {
    "collapsed": true
   },
   "outputs": [],
   "source": []
  },
  {
   "cell_type": "code",
   "execution_count": null,
   "metadata": {},
   "outputs": [
    {
     "name": "stdout",
     "output_type": "stream",
     "text": [
      "\n",
      "\n"
     ]
    }
   ],
   "source": [
    "\n",
    "\n",
    "contents = read_file(\"input1.txt\")\n",
    "print(contents)\n",
    "\n",
    "proc = subprocess.run(\"a.exe\", shell=True, input=contents.encode(), stdout=PIPE, stderr=PIPE)\n",
    "output = proc.stdout\n",
    "\n",
    "print(output)\n",
    "#   1   1"
   ]
  }
 ],
 "metadata": {
  "kernelspec": {
   "display_name": "Python 3",
   "language": "python",
   "name": "python3"
  },
  "language_info": {
   "codemirror_mode": {
    "name": "ipython",
    "version": 3
   },
   "file_extension": ".py",
   "mimetype": "text/x-python",
   "name": "python",
   "nbconvert_exporter": "python",
   "pygments_lexer": "ipython3",
   "version": "3.6.3"
  }
 },
 "nbformat": 4,
 "nbformat_minor": 2
}
